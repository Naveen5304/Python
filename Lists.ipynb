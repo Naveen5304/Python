{
 "cells": [
  {
   "cell_type": "markdown",
   "id": "built-effect",
   "metadata": {},
   "source": [
    "<h2> <b> Lists - Notes </b> </h2>\n",
    "\n",
    "<ul>\n",
    "  <li>A sequence is a data type that represents a group of elements. The purpose of any sequence is to store and process a group elements.</li>\n",
    "  <li>In python, string, lists, tuples and dictionaries are very important sequence datatypes</li>\n",
    "  <li>All sequence allow some common opertions like Indexing and Slicing </li>\n",
    "</ul>  "
   ]
  },
  {
   "cell_type": "markdown",
   "id": "geological-honduras",
   "metadata": {},
   "source": [
    "<b> List </b>\n",
    "\n",
    "<ul>\n",
    "    <li> List is similar to an array that consist of a group of elements or items. Just like an array, a list can store elements. But there is one major differnce between an array and a list </li>\n",
    "    <li> An array can store only one type of elements where as list can store different types of elements. For this reason, lists are most versatile and useful than an array </li>\n",
    "    <li> Lists are the most used datatype in Python programs.</li>\n",
    "    <li> Indexing and Slicing operations are commonly done on the lists </li>\n",
    "    <li> Apart from indexing and slicing , the 5 basic operations:<b><i> finding length, concatenation, repetition, membership and iteration operations </b></i> can be performed on lists and other sequences like strings, tuples or dictionaries </li>\n",
    "</ul>"
   ]
  },
  {
   "cell_type": "code",
   "execution_count": 5,
   "id": "related-attitude",
   "metadata": {},
   "outputs": [
    {
     "name": "stdout",
     "output_type": "stream",
     "text": [
      "<class 'list'>\n"
     ]
    }
   ],
   "source": [
    "e_lst = []  # this is an empty list\n",
    "print(type(e_lst))"
   ]
  },
  {
   "cell_type": "markdown",
   "id": "vital-delicious",
   "metadata": {},
   "source": [
    "<b> List Creation </b>\n",
    "<ul>\n",
    "   <li> we can create a list by embedding the elements inside a pair of square braces [] </li>\n",
    "   <li> Elements in the list should be seperated by \",\" </li>\n",
    "   <li> View the elements of a list as a whole, pass the list name to the print() function </li>\n",
    "</ul>"
   ]
  },
  {
   "cell_type": "code",
   "execution_count": 7,
   "id": "outstanding-attraction",
   "metadata": {},
   "outputs": [
    {
     "name": "stdout",
     "output_type": "stream",
     "text": [
      "[10, 'M', 'Naveen', 50, 60, 70, 80, 90]\n",
      "<class 'list'>\n"
     ]
    }
   ],
   "source": [
    "student = [10, 'M', 'Naveen', 50, 60, 70, 80, 90]\n",
    "print(student)\n",
    "print(type(student))"
   ]
  },
  {
   "cell_type": "markdown",
   "id": "overall-administrator",
   "metadata": {},
   "source": [
    "<h5>Python program to create lists with different types of elements </h5>"
   ]
  },
  {
   "cell_type": "code",
   "execution_count": 24,
   "id": "brilliant-encounter",
   "metadata": {},
   "outputs": [
    {
     "name": "stdout",
     "output_type": "stream",
     "text": [
      "Total List=  [10, 20, 30]\n",
      "First= 10, Second= 20, Third= 30\n",
      "Total Cities List =  ['Hyderabad', 'Chennai', 'Bangalore']\n",
      "First= Hyderabad Second= Chennai Third= Bangalore\n",
      "Total different list with data types [10, 'Naveen', 2.333, 'Krishna']\n",
      "First element= 10 , Second element= Naveen , Third element= 2.333000 \n"
     ]
    }
   ],
   "source": [
    "#create a list with integer numbers\n",
    "\n",
    "num = [10, 20, 30]\n",
    "print(\"Total List= \", num)  #display total list\n",
    "print('First= %d, Second= %d, Third= %d' % (num[0], num[1], num[2]))\n",
    "\n",
    "#create a list with strings\n",
    "\n",
    "cities = ['Hyderabad', 'Chennai', 'Bangalore']\n",
    "print('Total Cities List = ', cities)\n",
    "print('First= %s Second= %s Third= %s' % (cities[0], cities[1], cities[2]))\n",
    "\n",
    "#create a list with different data types\n",
    "\n",
    "diff_list = [10, 'Naveen', 2.333, \"Krishna\"]\n",
    "print(\"Total different list with data types\", diff_list)\n",
    "print('First element= %d , Second element= %s , Third element= %f ' % (diff_list[0], diff_list[1], diff_list[2]))"
   ]
  },
  {
   "cell_type": "code",
   "execution_count": null,
   "id": "indoor-roller",
   "metadata": {},
   "outputs": [],
   "source": []
  }
 ],
 "metadata": {
  "kernelspec": {
   "display_name": "Python 3",
   "language": "python",
   "name": "python3"
  },
  "language_info": {
   "codemirror_mode": {
    "name": "ipython",
    "version": 3
   },
   "file_extension": ".py",
   "mimetype": "text/x-python",
   "name": "python",
   "nbconvert_exporter": "python",
   "pygments_lexer": "ipython3",
   "version": "3.6.8"
  }
 },
 "nbformat": 4,
 "nbformat_minor": 5
}
